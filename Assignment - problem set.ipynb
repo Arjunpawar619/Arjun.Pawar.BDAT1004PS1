{
 "cells": [
  {
   "cell_type": "markdown",
   "id": "6e01d478",
   "metadata": {},
   "source": [
    "# Problem Set 1 "
   ]
  },
  {
   "cell_type": "markdown",
   "id": "7d09eaf5",
   "metadata": {},
   "source": [
    "This problem set is based on lectures 1,2 and 3. For a complete list of topics please consult page 2 of the course syllabus. Please consult the “Instructions for Problem Set Submissions” document under course information before submitting your assignment. "
   ]
  },
  {
   "cell_type": "markdown",
   "id": "0d46ffc9",
   "metadata": {},
   "source": [
    "# Question 1 Python"
   ]
  },
  {
   "cell_type": "markdown",
   "id": "f71ad6cf",
   "metadata": {},
   "source": [
    "What data type is each of the following? \n",
    "\n",
    "5       -----------------------> Integer Type (Value Type)  \n",
    "\n",
    "5.0     -----------------------> Floating point Type (Value Type)\n",
    "\n",
    "5 > 1   -----------------------> Boolen Type\n",
    "\n",
    "'5'     -----------------------> String Type\n",
    "\n",
    "5 * 2   -----------------------> Integer Type\n",
    "\n",
    "'5' * 2 -----------------------> String Type\n",
    "\n",
    "'5' + '2' ---------------------> String Type\n",
    "\n",
    "5 / 2   -----------------------> Float Type\n",
    "\n",
    "5 % 2   -----------------------> Integer Type\n",
    "\n",
    "{5, 2, 1} ---------------------> Set Type\n",
    "\n",
    "5 == 3   ----------------------> Boolen Type\n",
    "\n",
    "Pi (the number) ---------------> Float Type\n"
   ]
  },
  {
   "cell_type": "code",
   "execution_count": null,
   "id": "81790cda",
   "metadata": {},
   "outputs": [],
   "source": []
  },
  {
   "cell_type": "code",
   "execution_count": null,
   "id": "a4b70ff5",
   "metadata": {},
   "outputs": [],
   "source": []
  },
  {
   "cell_type": "markdown",
   "id": "9f58a9e6",
   "metadata": {},
   "source": [
    "# Question 2 Python"
   ]
  },
  {
   "cell_type": "markdown",
   "id": "a62b09eb",
   "metadata": {},
   "source": [
    "Write (and evaluate) C# expressions that answer these questions: \n",
    "\n",
    "\n",
    "a. How many letters are there in 'Supercalifragilisticexpialidocious'? \n",
    "\n",
    "Solution:-"
   ]
  },
  {
   "cell_type": "code",
   "execution_count": null,
   "id": "a685c572",
   "metadata": {},
   "outputs": [],
   "source": [
    "using System;\n",
    "using System.Collections.Generic;\n",
    "\n",
    "namespace Pratice\n",
    "{\n",
    "    class Program\n",
    "    {\n",
    "        static void Main(string[] args)\n",
    "        {\n",
    "            \n",
    "            string x = \"Supercalifragilisticexpialidocious\";\n",
    "            int y = x.Length;\n",
    "            Console.WriteLine(\"Their are {0} letters in Supercalifragilisticexpialidocious\", y);\n",
    "            Console.ReadLine();          \n",
    "         \n",
    "        }\n",
    "\n",
    "    }\n",
    "}\n"
   ]
  },
  {
   "cell_type": "markdown",
   "id": "1f722426",
   "metadata": {},
   "source": [
    "<img src=\"Question 2-1.png\">"
   ]
  },
  {
   "cell_type": "code",
   "execution_count": null,
   "id": "035ac75c",
   "metadata": {},
   "outputs": [],
   "source": []
  },
  {
   "cell_type": "code",
   "execution_count": null,
   "id": "f7d4a824",
   "metadata": {},
   "outputs": [],
   "source": []
  },
  {
   "cell_type": "markdown",
   "id": "c69fabfb",
   "metadata": {},
   "source": [
    "b. Does 'Supercalifragilisticexpialidocious' contain 'ice' as a substring?  \n",
    "\n",
    "Solution:-"
   ]
  },
  {
   "cell_type": "code",
   "execution_count": null,
   "id": "f78d4d4f",
   "metadata": {},
   "outputs": [],
   "source": [
    "using System;\n",
    "using System.Collections.Generic;\n",
    "\n",
    "namespace Pratice\n",
    "{\n",
    "    class Program\n",
    "    {\n",
    "        static void Main(string[] args)\n",
    "        {\n",
    "            \n",
    "            string x = \"Supercalifragilisticexpialidocious\";\n",
    "            string a = \"ice\";\n",
    "            \n",
    "\n",
    "            if (x.Contains(a))   \n",
    "            {\n",
    "                Console.WriteLine(\"Yes ice is substring of Supercalifragilisticexpialidocious\");\n",
    "            }\n",
    "\n",
    "            else\n",
    "            {\n",
    "                Console.WriteLine(\"No, ice is not a substring of Supercalifragilisticexpialidocious\");\n",
    "            }\n",
    "            \n",
    "            Console.ReadLine();\n",
    "           \n",
    "\n",
    "\n",
    "         }\n",
    "\n",
    "    }\n",
    "}\n",
    "\n",
    "\n",
    "# x.Contains() methods is referred from this website ---https://www.geeksforgeeks.org/c-sharp-string-contains-method/"
   ]
  },
  {
   "cell_type": "markdown",
   "id": "9f0997aa",
   "metadata": {},
   "source": [
    "<img src=\"Question 2-b.png\">"
   ]
  },
  {
   "cell_type": "code",
   "execution_count": null,
   "id": "571016eb",
   "metadata": {},
   "outputs": [],
   "source": []
  },
  {
   "cell_type": "code",
   "execution_count": null,
   "id": "88737df1",
   "metadata": {},
   "outputs": [],
   "source": []
  },
  {
   "cell_type": "markdown",
   "id": "ac759040",
   "metadata": {},
   "source": [
    "c. Which of the following words is the longest: Supercalifragilisticexpialidocious, Honorificabilitudinitatibus,  or Bababadalgharaghtakamminarronnkonn?  \n",
    "\n",
    "Solution:-"
   ]
  },
  {
   "cell_type": "code",
   "execution_count": null,
   "id": "a1d9e178",
   "metadata": {},
   "outputs": [],
   "source": [
    "using System;\n",
    "using System.Collections.Generic;\n",
    "\n",
    "namespace Pratice\n",
    "{\n",
    "    class Program\n",
    "    {\n",
    "        static void Main(string[] args)\n",
    "        {\n",
    "            \n",
    "            string b = \"Supercalifragilisticexpialidocious\";\n",
    "            string c = \"Honorificabilitudinitatibus\";\n",
    "            string d = \"Bababadalgharaghtakamminarronnkonn\";\n",
    "            int b1 = b.Length;\n",
    "            int c1 = c.Length;\n",
    "            int d1 = d.Length;\n",
    "\n",
    "            if (b1>c1)\n",
    "            {\n",
    "                if (b1>d1)\n",
    "                {\n",
    "                    Console.WriteLine(\"String Supercalifragilisticexpialidocious is longest\");\n",
    "                    Console.ReadLine();\n",
    "                }\n",
    "                \n",
    "            }\n",
    "            if (c1>d1)\n",
    "            {\n",
    "                Console.WriteLine(\"String Honorificabilitudinitatibus is longest\");\n",
    "                Console.ReadLine();\n",
    "            }\n",
    "\n",
    "            else\n",
    "            {\n",
    "                Console.WriteLine(\"String Bababadalgharaghtakamminarronnkonn is longest\");\n",
    "                Console.ReadLine();\n",
    "            }\n",
    "\n",
    "            \n",
    "            \n",
    "        }\n",
    "\n",
    "    }\n",
    "}\n"
   ]
  },
  {
   "cell_type": "markdown",
   "id": "549e1c09",
   "metadata": {},
   "source": [
    "<img src=\"Question 2-c.png\">"
   ]
  },
  {
   "cell_type": "code",
   "execution_count": null,
   "id": "5c6da58b",
   "metadata": {},
   "outputs": [],
   "source": []
  },
  {
   "cell_type": "code",
   "execution_count": null,
   "id": "424bacdb",
   "metadata": {},
   "outputs": [],
   "source": []
  },
  {
   "cell_type": "markdown",
   "id": "f4f2be9e",
   "metadata": {},
   "source": [
    "d. Which composer comes first in the dictionary: 'Berlioz', 'Borodin', 'Brian', 'Bartok', 'Bellini', 'Buxtehude', 'Bernstein'. Which one comes last?\n",
    "\n",
    "Solution:-\n",
    "\n",
    "First composer in Dictionary - 'Bartok'\n",
    "\n",
    "-----\n",
    "\n",
    "Last composer in Dictionary  - 'Buxtehude'"
   ]
  },
  {
   "cell_type": "code",
   "execution_count": null,
   "id": "97e45147",
   "metadata": {},
   "outputs": [],
   "source": [
    "using System;\n",
    "using System.Collections.Generic;\n",
    "\n",
    "namespace Dictionary\n",
    "{\n",
    "    class Program\n",
    "    {\n",
    "        static void Main(string[] args)\n",
    "        {\n",
    "            SortedDictionary<string, string> x = new SortedDictionary<string, string>(); #created a   SOrted Dictionary\n",
    "            x.Add(\"Berlioz\",\"1\"); \n",
    "            x.Add(\"Borodin\",\"1\");\n",
    "            x.Add(\"Brian\", \"1\");\n",
    "            x.Add(\"Bartok\", \"1\");\n",
    "            x.Add(\"Bellini\", \"1\");\n",
    "            x.Add(\"Buxtehude\", \"1\");\n",
    "            x.Add(\"Bernstein\", \"1\");\n",
    "\n",
    "\n",
    "            foreach (KeyValuePair<string,string> kv in x)           # looping through Dictionary\n",
    "            {\n",
    "                Console.WriteLine(kv.Key);\n",
    "                \n",
    "            }\n",
    "\n",
    "            Console.ReadLine();\n",
    "        }\n",
    "    }\n",
    "}\n"
   ]
  },
  {
   "cell_type": "markdown",
   "id": "de57bf07",
   "metadata": {},
   "source": [
    "<img src=\"Question 2-d.png\">"
   ]
  },
  {
   "cell_type": "code",
   "execution_count": null,
   "id": "a90e9ead",
   "metadata": {},
   "outputs": [],
   "source": []
  },
  {
   "cell_type": "code",
   "execution_count": null,
   "id": "74b8dc92",
   "metadata": {},
   "outputs": [],
   "source": []
  },
  {
   "cell_type": "markdown",
   "id": "15ffacd8",
   "metadata": {},
   "source": [
    "# Question 3 Python"
   ]
  },
  {
   "cell_type": "markdown",
   "id": "6069753b",
   "metadata": {},
   "source": [
    "Implement function triangleArea(a,b,c) that takes as input the lengths of the 3 sides of a triangle and returns the area of the triangle. By Heron's formula, the area of a triangle with side lengths a, b, and c is   s(s-a)(s-b)(s-c), where   s=(a+b+c)/2.   >>> triangleArea(2,2,2) 1.7320508075688772 \n",
    "\n",
    "Solution:-"
   ]
  },
  {
   "cell_type": "code",
   "execution_count": null,
   "id": "694c0d71",
   "metadata": {},
   "outputs": [],
   "source": []
  },
  {
   "cell_type": "code",
   "execution_count": null,
   "id": "875feb85",
   "metadata": {},
   "outputs": [],
   "source": []
  },
  {
   "cell_type": "code",
   "execution_count": null,
   "id": "334a388a",
   "metadata": {},
   "outputs": [],
   "source": []
  },
  {
   "cell_type": "code",
   "execution_count": null,
   "id": "72f35d67",
   "metadata": {},
   "outputs": [],
   "source": []
  },
  {
   "cell_type": "markdown",
   "id": "dc6d5f4e",
   "metadata": {},
   "source": [
    "# Question 4 Python"
   ]
  },
  {
   "cell_type": "markdown",
   "id": "b035038d",
   "metadata": {},
   "source": [
    "Write a program in C# Sharp to separate odd and even integers in separate arrays. Go to the editor Test Data : Input the number of elements to be stored in the array :5 Input 5 elements in the array : element - 0 : 25 element - 1 : 47 element - 2 : 42 element - 3 : 56 element - 4 : 32 Expected Output: The Even elements are: 42 56 32 The Odd elements are : 25 47 \n",
    "\n",
    "Solution:-"
   ]
  },
  {
   "cell_type": "code",
   "execution_count": null,
   "id": "5598603d",
   "metadata": {},
   "outputs": [],
   "source": [
    "using System;\n",
    "using System.Collections.Generic;\n",
    "\n",
    "namespace Pratice\n",
    "{\n",
    "    class Program\n",
    "    {\n",
    "        static void Main(string[] args)\n",
    "        {\n",
    "           \n",
    "            int[] element = new int[] { 25, 47, 42, 56, 32 };\n",
    "\n",
    "            List<int> neweven = new List<int>();\n",
    "            List<int> newodd = new List<int>();\n",
    "            foreach (int i in element)\n",
    "            {\n",
    "\n",
    "                if (i % 2 == 0)\n",
    "                {\n",
    "                    neweven.Add(i);\n",
    "                }\n",
    "\n",
    "                else\n",
    "                {\n",
    "                    newodd.Add(i);\n",
    "                }\n",
    "            }\n",
    "            Console.WriteLine(\"The Even elements are:\");\n",
    "            foreach (int evennumber in neweven)\n",
    "            {\n",
    "                Console.Write(evennumber + \" \");\n",
    "            }\n",
    "            Console.WriteLine();\n",
    "            Console.WriteLine(\"The Odd elements are:\");\n",
    "            foreach (int oddnumber in newodd)\n",
    "            {\n",
    "                Console.Write(oddnumber + \" \");\n",
    "            }\n",
    "            Console.ReadLine();\n",
    "        }\n",
    "\n",
    "    }\n",
    "}\n"
   ]
  },
  {
   "cell_type": "markdown",
   "id": "9d864a24",
   "metadata": {},
   "source": [
    "<img src=\"Question 4.png\">"
   ]
  },
  {
   "cell_type": "code",
   "execution_count": null,
   "id": "3343c703",
   "metadata": {},
   "outputs": [],
   "source": []
  },
  {
   "cell_type": "code",
   "execution_count": null,
   "id": "f5370eea",
   "metadata": {},
   "outputs": [],
   "source": []
  },
  {
   "cell_type": "markdown",
   "id": "5c509c3a",
   "metadata": {},
   "source": [
    "# Question 5 Python"
   ]
  },
  {
   "cell_type": "markdown",
   "id": "f94ee910",
   "metadata": {},
   "source": [
    "a. Write a function inside(x,y,x1,y1,x2,y2) that returns True or False depending on whether the point (x,y) lies in the rectangle with lower left corner (x1,y1) and upper right corner (x2,y2).  >>> inside(1,1,0,0,2,3) True >>> inside(-1,-1,0,0,2,3) False  \n",
    "\n",
    "\n",
    "b. Use function inside() from part a. to write an expression that tests whether the point (1,1) lies in both of the following rectangles: one with lower left corner (0.3, 0.5) and upper right corner (1.1, 0.7) and the other with lower left corner (0.5, 0.2) and upper right corner (1.1, 2). \n",
    "\n",
    "Solution:-"
   ]
  },
  {
   "cell_type": "code",
   "execution_count": null,
   "id": "88cda2da",
   "metadata": {},
   "outputs": [],
   "source": []
  },
  {
   "cell_type": "code",
   "execution_count": null,
   "id": "16a98e6f",
   "metadata": {},
   "outputs": [],
   "source": []
  },
  {
   "cell_type": "code",
   "execution_count": null,
   "id": "018d84e5",
   "metadata": {},
   "outputs": [],
   "source": []
  },
  {
   "cell_type": "code",
   "execution_count": null,
   "id": "d44a297c",
   "metadata": {},
   "outputs": [],
   "source": []
  },
  {
   "cell_type": "code",
   "execution_count": null,
   "id": "55934fd2",
   "metadata": {},
   "outputs": [],
   "source": []
  },
  {
   "cell_type": "code",
   "execution_count": null,
   "id": "7e874fdd",
   "metadata": {},
   "outputs": [],
   "source": []
  },
  {
   "cell_type": "code",
   "execution_count": null,
   "id": "d331b556",
   "metadata": {},
   "outputs": [],
   "source": []
  },
  {
   "cell_type": "markdown",
   "id": "64f8b8f3",
   "metadata": {},
   "source": [
    "# Question 6 Python"
   ]
  },
  {
   "cell_type": "markdown",
   "id": "a542c473",
   "metadata": {},
   "source": [
    "You can turn a word into pig-Latin using the following two rules (simplified): • \n",
    "If the word starts with a consonant, move that letter to the end and append 'ay'. \n",
    "For example, 'happy' becomes 'appyhay' and 'pencil' becomes 'encilpay'. • \n",
    "If the word starts with a vowel, simply append 'way' to the end of the word. \n",
    "For example, 'enter' becomes 'enterway' and 'other' becomes 'otherway' . \n",
    "For our purposes, there are 5 vowels: a, e, i, o, u (so we count y as a consonant).  \n",
    "Write a function pig() that takes a word (i.e., a string) as input and returns its pig-Latin form. \n",
    "Your function should still work if the input word contains upper case characters. \n",
    "Your output should always be lower case however.   \n",
    "\n",
    "   pig('happy') \n",
    "    'appyhay'  \n",
    "   pig('Enter') \n",
    "    'enterway'\n",
    "    \n",
    "Solution :-    "
   ]
  },
  {
   "cell_type": "code",
   "execution_count": 4,
   "id": "70c1a6ad",
   "metadata": {},
   "outputs": [],
   "source": [
    "def pig(x):\n",
    "    x = x.lower()\n",
    "    if (x[0]==\"a\" or x[0]==\"e\" or x[0]==\"i\" or x[0]==\"o\" or x[0]==\"u\"):\n",
    "        x = x + \"way\"\n",
    "        print(x)\n",
    "    else:\n",
    "        x = x[1:] + x[0] + 'ay'\n",
    "        print(x)"
   ]
  },
  {
   "cell_type": "code",
   "execution_count": 2,
   "id": "5f18d989",
   "metadata": {},
   "outputs": [
    {
     "name": "stdout",
     "output_type": "stream",
     "text": [
      "appyhay\n"
     ]
    }
   ],
   "source": [
    "pig(\"Happy\")"
   ]
  },
  {
   "cell_type": "code",
   "execution_count": 3,
   "id": "7f55e2f6",
   "metadata": {},
   "outputs": [
    {
     "name": "stdout",
     "output_type": "stream",
     "text": [
      "enterway\n"
     ]
    }
   ],
   "source": [
    "pig(\"Enter\")"
   ]
  },
  {
   "cell_type": "code",
   "execution_count": null,
   "id": "55441ba8",
   "metadata": {},
   "outputs": [],
   "source": []
  },
  {
   "cell_type": "code",
   "execution_count": null,
   "id": "faf2c607",
   "metadata": {},
   "outputs": [],
   "source": []
  },
  {
   "cell_type": "markdown",
   "id": "22d53b67",
   "metadata": {},
   "source": [
    "# Question 7 Python"
   ]
  },
  {
   "cell_type": "markdown",
   "id": "f05c0eef",
   "metadata": {},
   "source": [
    "File bloodtype1.txt records blood-types of patients (A, B, AB, O or OO) at a clinic. Write a function bldcount() that reads the file with name name and reports (i.e., prints) how many patients there are in each bloodtype. \n",
    "\n",
    "bldcount('bloodtype.txt') \n",
    "There are 10 patients of blood type A. \n",
    "There is one patient of blood type B. \n",
    "There are 10 patients of blood type AB. \n",
    "There are 12 patients of blood type O. \n",
    "There are no patients of blood type OO.\n",
    "\n",
    "\n",
    "Solution:-"
   ]
  },
  {
   "cell_type": "code",
   "execution_count": 8,
   "id": "960016a2",
   "metadata": {},
   "outputs": [],
   "source": [
    "def bldcount(x):\n",
    "    df = open(x)\n",
    "    content = df.read()\n",
    "    df.close()\n",
    "    list_1 = content.split()\n",
    "    list_2 = [\"AB\",\"A\",\"B\",\"O\",\"OO\"]\n",
    "\n",
    "    d1 = dict()\n",
    "    for i in list_1:\n",
    "        if i in d1:\n",
    "            d1[i] += 1\n",
    "        else:\n",
    "            d1[i] = 1\n",
    "\n",
    "\n",
    "    for j in list_2:\n",
    "        if j in d1:\n",
    "            print(\"There are {} patients of blood type {}.\".format(d1[j],j))\n",
    "        else:\n",
    "            print(\"There are {} patients of blood type {}.\".format(\"no\",j))\n"
   ]
  },
  {
   "cell_type": "code",
   "execution_count": 9,
   "id": "2f457cfa",
   "metadata": {},
   "outputs": [
    {
     "name": "stdout",
     "output_type": "stream",
     "text": [
      "There are 13 patients of blood type AB.\n",
      "There are 15 patients of blood type A.\n",
      "There are 1 patients of blood type B.\n",
      "There are 15 patients of blood type O.\n",
      "There are no patients of blood type OO.\n"
     ]
    }
   ],
   "source": [
    "bldcount(\"bloodtype.txt\")"
   ]
  },
  {
   "cell_type": "code",
   "execution_count": null,
   "id": "c9a1de8e",
   "metadata": {},
   "outputs": [],
   "source": []
  },
  {
   "cell_type": "code",
   "execution_count": null,
   "id": "445caa93",
   "metadata": {},
   "outputs": [],
   "source": []
  },
  {
   "cell_type": "markdown",
   "id": "25fd1b32",
   "metadata": {},
   "source": [
    "# Question 8 Python"
   ]
  },
  {
   "cell_type": "markdown",
   "id": "87f30931",
   "metadata": {},
   "source": [
    "Write a function curconv() that takes as input:  1. a currency represented using a string (e.g., 'JPY' for the Japanese Yen or 'EUR' for the Euro) 2. an amount  and then converts and returns the amount in US dollars. \n",
    "\n",
    "curconv('EUR', 100) \n",
    "122.96544\n",
    "curconv('JPY', 100) \n",
    "1.241401 \n",
    "\n",
    "The currency rates you will need are stored in file currencies.txt: \n",
    "\n",
    " AUD 1.0345157 Australian Dollar \n",
    " CHF 1.0237414 Swiss Franc \n",
    " CNY 0.1550176 Chinese Yuan \n",
    " DKK 0.1651442 Danish Krone \n",
    " EUR 1.2296544 Euro \n",
    " GBP 1.5550989 British Pound \n",
    " HKD 0.1270207 Hong Kong Dollar \n",
    " INR 0.0177643 Indian Rupee JPY 0.01241401 Japanese Yen MXN 0.0751848 Mexican Peso MYR 0.3145411 Malaysian Ringgit NOK 0.1677063 Norwegian Krone NZD 0.8003591 New Zealand Dollar PHP 0.0233234 Philippine Peso SEK 0.148269 Swedish Krona SGD 0.788871 Singapore Dollar THB 0.0313789 Thai Baht \n",
    " \n",
    " \n",
    " \n",
    " Solution:-"
   ]
  },
  {
   "cell_type": "code",
   "execution_count": 10,
   "id": "36b4620a",
   "metadata": {},
   "outputs": [],
   "source": [
    "def curconv(x,y):\n",
    "    data = open(\"currencies.txt\",\"r\")\n",
    "    content_1 = data.readlines()\n",
    "    data.close()\n",
    "    list_value = []\n",
    "    list_token = []\n",
    "    for i in content_1:\n",
    "        list_value.append(float(i[4:13]))\n",
    "        list_token.append(i[0:3])\n",
    "        \n",
    "    i = list_token.index(x)\n",
    "    value = list_value[i]\n",
    "    USD_value = float(value * y)\n",
    "    return USD_value"
   ]
  },
  {
   "cell_type": "code",
   "execution_count": 11,
   "id": "a8df3b44",
   "metadata": {},
   "outputs": [
    {
     "data": {
      "text/plain": [
       "103.45157"
      ]
     },
     "execution_count": 11,
     "metadata": {},
     "output_type": "execute_result"
    }
   ],
   "source": [
    "curconv('AUD',100)"
   ]
  },
  {
   "cell_type": "code",
   "execution_count": 13,
   "id": "78ffcdec",
   "metadata": {},
   "outputs": [
    {
     "data": {
      "text/plain": [
       "122.96544"
      ]
     },
     "execution_count": 13,
     "metadata": {},
     "output_type": "execute_result"
    }
   ],
   "source": [
    "curconv('EUR',100)"
   ]
  },
  {
   "cell_type": "code",
   "execution_count": 14,
   "id": "bf515f9b",
   "metadata": {},
   "outputs": [
    {
     "data": {
      "text/plain": [
       "1.2414"
      ]
     },
     "execution_count": 14,
     "metadata": {},
     "output_type": "execute_result"
    }
   ],
   "source": [
    "curconv('JPY',100)"
   ]
  },
  {
   "cell_type": "code",
   "execution_count": null,
   "id": "8df653f4",
   "metadata": {},
   "outputs": [],
   "source": []
  },
  {
   "cell_type": "code",
   "execution_count": null,
   "id": "b4bf8039",
   "metadata": {},
   "outputs": [],
   "source": []
  },
  {
   "cell_type": "markdown",
   "id": "fbeac0af",
   "metadata": {},
   "source": [
    "# Question 9 Python"
   ]
  },
  {
   "cell_type": "markdown",
   "id": "e1585fa3",
   "metadata": {},
   "source": [
    "Each of the following will cause an exception (an error). Identify what type of exception each will cause. \n",
    "\n",
    "\n"
   ]
  },
  {
   "cell_type": "markdown",
   "id": "607cd0b2",
   "metadata": {},
   "source": [
    "1.Trying to add incompatible variables, as in adding 6 + ‘a’ \n",
    "\n",
    "Solution:-  TypeError: unsupported operand type(s) for +: 'int' and 'str'\n",
    "\n",
    "---------------------------------------\n",
    "\n",
    "2.Referring to the 12th item of a list that has only 10 items \n",
    "\n",
    "Solution:- IndexError: range object index out of range\n",
    "\n",
    "---\n",
    "\n",
    "\n",
    "3.Using a value that is out of range for a function’s input, such as calling math.sqrt(-1.0) \n",
    "\n",
    "Solution:-  ValueError: math domain error\n",
    "\n",
    "-----------------------------------------\n",
    "\n",
    "\n",
    "4.Using an undeclared variable, such as print(x) when x has not been defined\n",
    "\n",
    "Solution:-  NameError: name 'x' is not defined\n",
    "\n",
    "-------------------------------------------\n",
    "\n",
    "\n",
    "5.Trying to open a file that does not exist, such as mistyping the file name or looking in the wrong directory. \n",
    "\n",
    "Solution:- FileNotFoundError: [Errno 2] No such file or directory: 'missingfile.txt'\n"
   ]
  },
  {
   "cell_type": "code",
   "execution_count": null,
   "id": "81cbf9f6",
   "metadata": {},
   "outputs": [],
   "source": []
  },
  {
   "cell_type": "code",
   "execution_count": null,
   "id": "a91938ab",
   "metadata": {},
   "outputs": [],
   "source": []
  },
  {
   "cell_type": "markdown",
   "id": "e6f5b285",
   "metadata": {},
   "source": [
    "# Question 10 Python"
   ]
  },
  {
   "cell_type": "markdown",
   "id": "6f286d4b",
   "metadata": {},
   "source": [
    "Encryption is the process of hiding the meaning of a text by substituting letters in the message with other letters, according to some system. If the process is successful, no one but the intended recipient can understand the encrypted message. Cryptanalysis refers to attempts to undo the encryption, even if some details of the encryption are unknown (for example, if an encrypted message has been intercepted). The first step of cryptanalysis is often to build up a table of letter frequencies in the encrypted text. Assume that the string letters is already defined as 'abcdefghijklmnopqrstuvwxyz'. Write a function called frequencies() that takes a string as its only parameter, and returns a list of integers, showing the number of times each character appears in the text. Your function may ignore any characters that are not in letters.   >>> frequencies('The quick red fox got bored and went home.') [1, 1, 1, 3, 5, 1, 1, 2, 1, 0, 1, 0, 1, 2, 4, 0, 1, 2, 0, 2, 1, 0, 1, 1, 0, 0] >>> frequencies('apple') \n",
    "\n",
    "\n",
    "Solution:-"
   ]
  },
  {
   "cell_type": "code",
   "execution_count": 2,
   "id": "0aca3405",
   "metadata": {},
   "outputs": [],
   "source": [
    "def frequencies(x):\n",
    "    s = 'abcdefghijklmnopqrstuvwxyz'\n",
    "    list_1=[]\n",
    "\n",
    "    for i in range(0,len(s)):\n",
    "        count = 0\n",
    "        for j in range(0,len(x)):\n",
    "            if s[i]==x[j]:\n",
    "                count = count + 1\n",
    "        list_1.append(count)\n",
    "    return list_1    "
   ]
  },
  {
   "cell_type": "code",
   "execution_count": 3,
   "id": "e3bfb74e",
   "metadata": {},
   "outputs": [
    {
     "data": {
      "text/plain": [
       "[1, 1, 1, 3, 5, 1, 1, 2, 1, 0, 1, 0, 1, 2, 4, 0, 1, 2, 0, 2, 1, 0, 1, 1, 0, 0]"
      ]
     },
     "execution_count": 3,
     "metadata": {},
     "output_type": "execute_result"
    }
   ],
   "source": [
    "frequencies('The quick red fox got bored and went home.') "
   ]
  },
  {
   "cell_type": "code",
   "execution_count": 4,
   "id": "39d966f3",
   "metadata": {},
   "outputs": [
    {
     "data": {
      "text/plain": [
       "[1, 0, 0, 0, 1, 0, 0, 0, 0, 0, 0, 1, 0, 0, 0, 2, 0, 0, 0, 0, 0, 0, 0, 0, 0, 0]"
      ]
     },
     "execution_count": 4,
     "metadata": {},
     "output_type": "execute_result"
    }
   ],
   "source": [
    "frequencies('apple')"
   ]
  },
  {
   "cell_type": "code",
   "execution_count": null,
   "id": "fe001fa9",
   "metadata": {},
   "outputs": [],
   "source": []
  }
 ],
 "metadata": {
  "kernelspec": {
   "display_name": "Python 3",
   "language": "python",
   "name": "python3"
  },
  "language_info": {
   "codemirror_mode": {
    "name": "ipython",
    "version": 3
   },
   "file_extension": ".py",
   "mimetype": "text/x-python",
   "name": "python",
   "nbconvert_exporter": "python",
   "pygments_lexer": "ipython3",
   "version": "3.8.8"
  }
 },
 "nbformat": 4,
 "nbformat_minor": 5
}
